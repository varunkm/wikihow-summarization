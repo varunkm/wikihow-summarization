{
  "nbformat": 4,
  "nbformat_minor": 0,
  "metadata": {
    "colab": {
      "name": "WikiHowExploration.ipynb",
      "version": "0.3.2",
      "provenance": [],
      "collapsed_sections": [],
      "include_colab_link": true
    },
    "kernelspec": {
      "name": "python3",
      "display_name": "Python 3"
    },
    "accelerator": "GPU"
  },
  "cells": [
    {
      "cell_type": "markdown",
      "metadata": {
        "id": "view-in-github",
        "colab_type": "text"
      },
      "source": [
        "<a href=\"https://colab.research.google.com/github/varunkm/wikihow-summarization/blob/master/WikiHowExploration.ipynb\" target=\"_parent\"><img src=\"https://colab.research.google.com/assets/colab-badge.svg\" alt=\"Open In Colab\"/></a>"
      ]
    },
    {
      "metadata": {
        "id": "1UaaQami7NKQ",
        "colab_type": "text"
      },
      "cell_type": "markdown",
      "source": [
        "# Exploring the WikiHow Dataset"
      ]
    },
    {
      "metadata": {
        "id": "8f6MTsmj7RHG",
        "colab_type": "text"
      },
      "cell_type": "markdown",
      "source": [
        "First we need to download the dataset and store it. The repo is here: https://github.com/mahnazkoupaee/WikiHow-Dataset"
      ]
    },
    {
      "metadata": {
        "id": "MeXqppKL_f3g",
        "colab_type": "text"
      },
      "cell_type": "markdown",
      "source": [
        "We can open up this file and see what it contains and how it is structured"
      ]
    },
    {
      "metadata": {
        "id": "sbWifNjyibCr",
        "colab_type": "code",
        "outputId": "810063b4-bc27-4154-e1c3-e148917de769",
        "colab": {
          "base_uri": "https://localhost:8080/",
          "height": 122
        }
      },
      "cell_type": "code",
      "source": [
        "from google.colab import drive\n",
        "drive.mount('/content/gdrive')"
      ],
      "execution_count": 0,
      "outputs": [
        {
          "output_type": "stream",
          "text": [
            "Go to this URL in a browser: https://accounts.google.com/o/oauth2/auth?client_id=947318989803-6bn6qk8qdgf4n4g3pfee6491hc0brc4i.apps.googleusercontent.com&redirect_uri=urn%3Aietf%3Awg%3Aoauth%3A2.0%3Aoob&scope=email%20https%3A%2F%2Fwww.googleapis.com%2Fauth%2Fdocs.test%20https%3A%2F%2Fwww.googleapis.com%2Fauth%2Fdrive%20https%3A%2F%2Fwww.googleapis.com%2Fauth%2Fdrive.photos.readonly%20https%3A%2F%2Fwww.googleapis.com%2Fauth%2Fpeopleapi.readonly&response_type=code\n",
            "\n",
            "Enter your authorization code:\n",
            "··········\n",
            "Mounted at /content/gdrive\n"
          ],
          "name": "stdout"
        }
      ]
    },
    {
      "metadata": {
        "id": "tjYu2G_j_qN3",
        "colab_type": "code",
        "outputId": "85453545-468b-4520-b9fb-2e9e98170894",
        "colab": {
          "base_uri": "https://localhost:8080/",
          "height": 204
        }
      },
      "cell_type": "code",
      "source": [
        "import pandas as pd\n",
        "data = pd.read_csv('/content/gdrive/My Drive/_UNI/wikihowSep.csv')\n",
        "data.head()"
      ],
      "execution_count": 0,
      "outputs": [
        {
          "output_type": "execute_result",
          "data": {
            "text/html": [
              "<div>\n",
              "<style scoped>\n",
              "    .dataframe tbody tr th:only-of-type {\n",
              "        vertical-align: middle;\n",
              "    }\n",
              "\n",
              "    .dataframe tbody tr th {\n",
              "        vertical-align: top;\n",
              "    }\n",
              "\n",
              "    .dataframe thead th {\n",
              "        text-align: right;\n",
              "    }\n",
              "</style>\n",
              "<table border=\"1\" class=\"dataframe\">\n",
              "  <thead>\n",
              "    <tr style=\"text-align: right;\">\n",
              "      <th></th>\n",
              "      <th>overview</th>\n",
              "      <th>headline</th>\n",
              "      <th>text</th>\n",
              "      <th>sectionLabel</th>\n",
              "      <th>title</th>\n",
              "    </tr>\n",
              "  </thead>\n",
              "  <tbody>\n",
              "    <tr>\n",
              "      <th>0</th>\n",
              "      <td>So you're a new or aspiring artist and your c...</td>\n",
              "      <td>\\nSell yourself first.</td>\n",
              "      <td>Before doing anything else, stop and sum up y...</td>\n",
              "      <td>Steps</td>\n",
              "      <td>How to Sell Fine Art Online</td>\n",
              "    </tr>\n",
              "    <tr>\n",
              "      <th>1</th>\n",
              "      <td>If you want to be well-read, then, in the wor...</td>\n",
              "      <td>\\nRead the classics before 1600.</td>\n",
              "      <td>Reading the classics is the very first thing ...</td>\n",
              "      <td>Reading the Classics</td>\n",
              "      <td>How to Be Well Read</td>\n",
              "    </tr>\n",
              "    <tr>\n",
              "      <th>2</th>\n",
              "      <td>So you're a new or aspiring artist and your c...</td>\n",
              "      <td>\\nJoin online artist communities.</td>\n",
              "      <td>Depending on what scale you intend to sell yo...</td>\n",
              "      <td>Steps</td>\n",
              "      <td>How to Sell Fine Art Online</td>\n",
              "    </tr>\n",
              "    <tr>\n",
              "      <th>3</th>\n",
              "      <td>So you're a new or aspiring artist and your c...</td>\n",
              "      <td>\\nMake yourself public.</td>\n",
              "      <td>Get yourself out there as best as you can by ...</td>\n",
              "      <td>Steps</td>\n",
              "      <td>How to Sell Fine Art Online</td>\n",
              "    </tr>\n",
              "    <tr>\n",
              "      <th>4</th>\n",
              "      <td>So you're a new or aspiring artist and your c...</td>\n",
              "      <td>\\nBlog about your artwork.</td>\n",
              "      <td>Given the hundreds of free blogging websites,...</td>\n",
              "      <td>Steps</td>\n",
              "      <td>How to Sell Fine Art Online</td>\n",
              "    </tr>\n",
              "  </tbody>\n",
              "</table>\n",
              "</div>"
            ],
            "text/plain": [
              "                                            overview  \\\n",
              "0   So you're a new or aspiring artist and your c...   \n",
              "1   If you want to be well-read, then, in the wor...   \n",
              "2   So you're a new or aspiring artist and your c...   \n",
              "3   So you're a new or aspiring artist and your c...   \n",
              "4   So you're a new or aspiring artist and your c...   \n",
              "\n",
              "                            headline  \\\n",
              "0             \\nSell yourself first.   \n",
              "1   \\nRead the classics before 1600.   \n",
              "2  \\nJoin online artist communities.   \n",
              "3            \\nMake yourself public.   \n",
              "4         \\nBlog about your artwork.   \n",
              "\n",
              "                                                text          sectionLabel  \\\n",
              "0   Before doing anything else, stop and sum up y...                 Steps   \n",
              "1   Reading the classics is the very first thing ...  Reading the Classics   \n",
              "2   Depending on what scale you intend to sell yo...                 Steps   \n",
              "3   Get yourself out there as best as you can by ...                 Steps   \n",
              "4   Given the hundreds of free blogging websites,...                 Steps   \n",
              "\n",
              "                         title  \n",
              "0  How to Sell Fine Art Online  \n",
              "1          How to Be Well Read  \n",
              "2  How to Sell Fine Art Online  \n",
              "3  How to Sell Fine Art Online  \n",
              "4  How to Sell Fine Art Online  "
            ]
          },
          "metadata": {
            "tags": []
          },
          "execution_count": 3
        }
      ]
    },
    {
      "metadata": {
        "id": "z-ml-9wSbwhO",
        "colab_type": "code",
        "outputId": "a907347e-0378-40fd-8757-b5944738a927",
        "colab": {
          "base_uri": "https://localhost:8080/",
          "height": 187
        }
      },
      "cell_type": "code",
      "source": [
        "data.info()"
      ],
      "execution_count": 0,
      "outputs": [
        {
          "output_type": "stream",
          "text": [
            "<class 'pandas.core.frame.DataFrame'>\n",
            "RangeIndex: 1585695 entries, 0 to 1585694\n",
            "Data columns (total 5 columns):\n",
            "overview        1583187 non-null object\n",
            "headline        1585695 non-null object\n",
            "text            1387290 non-null object\n",
            "sectionLabel    1583791 non-null object\n",
            "title           1585694 non-null object\n",
            "dtypes: object(5)\n",
            "memory usage: 60.5+ MB\n"
          ],
          "name": "stdout"
        }
      ]
    },
    {
      "metadata": {
        "id": "UsJeuuDV7cMJ",
        "colab_type": "code",
        "outputId": "a1ea0afc-3984-4e5c-bb98-67f3d4af571f",
        "colab": {
          "base_uri": "https://localhost:8080/",
          "height": 697
        }
      },
      "cell_type": "code",
      "source": [
        "!pip install torch\n",
        "!pip install torchtext\n",
        "!pip install spacy\n",
        "!python -m spacy download en"
      ],
      "execution_count": 0,
      "outputs": [
        {
          "output_type": "stream",
          "text": [
            "Requirement already satisfied: torch in /usr/local/lib/python3.6/dist-packages (1.0.1.post2)\n",
            "Requirement already satisfied: torchtext in /usr/local/lib/python3.6/dist-packages (0.3.1)\n",
            "Requirement already satisfied: torch in /usr/local/lib/python3.6/dist-packages (from torchtext) (1.0.1.post2)\n",
            "Requirement already satisfied: requests in /usr/local/lib/python3.6/dist-packages (from torchtext) (2.18.4)\n",
            "Requirement already satisfied: numpy in /usr/local/lib/python3.6/dist-packages (from torchtext) (1.16.1)\n",
            "Requirement already satisfied: tqdm in /usr/local/lib/python3.6/dist-packages (from torchtext) (4.28.1)\n",
            "Requirement already satisfied: idna<2.7,>=2.5 in /usr/local/lib/python3.6/dist-packages (from requests->torchtext) (2.6)\n",
            "Requirement already satisfied: certifi>=2017.4.17 in /usr/local/lib/python3.6/dist-packages (from requests->torchtext) (2018.11.29)\n",
            "Requirement already satisfied: chardet<3.1.0,>=3.0.2 in /usr/local/lib/python3.6/dist-packages (from requests->torchtext) (3.0.4)\n",
            "Requirement already satisfied: urllib3<1.23,>=1.21.1 in /usr/local/lib/python3.6/dist-packages (from requests->torchtext) (1.22)\n",
            "Requirement already satisfied: spacy in /usr/local/lib/python3.6/dist-packages (2.0.18)\n",
            "Requirement already satisfied: murmurhash<1.1.0,>=0.28.0 in /usr/local/lib/python3.6/dist-packages (from spacy) (1.0.1)\n",
            "Requirement already satisfied: regex==2018.01.10 in /usr/local/lib/python3.6/dist-packages (from spacy) (2018.1.10)\n",
            "Requirement already satisfied: requests<3.0.0,>=2.13.0 in /usr/local/lib/python3.6/dist-packages (from spacy) (2.18.4)\n",
            "Requirement already satisfied: plac<1.0.0,>=0.9.6 in /usr/local/lib/python3.6/dist-packages (from spacy) (0.9.6)\n",
            "Requirement already satisfied: dill<0.3,>=0.2 in /usr/local/lib/python3.6/dist-packages (from spacy) (0.2.9)\n",
            "Requirement already satisfied: preshed<2.1.0,>=2.0.1 in /usr/local/lib/python3.6/dist-packages (from spacy) (2.0.1)\n",
            "Requirement already satisfied: thinc<6.13.0,>=6.12.1 in /usr/local/lib/python3.6/dist-packages (from spacy) (6.12.1)\n",
            "Requirement already satisfied: ujson>=1.35 in /usr/local/lib/python3.6/dist-packages (from spacy) (1.35)\n",
            "Requirement already satisfied: cymem<2.1.0,>=2.0.2 in /usr/local/lib/python3.6/dist-packages (from spacy) (2.0.2)\n",
            "Requirement already satisfied: numpy>=1.15.0 in /usr/local/lib/python3.6/dist-packages (from spacy) (1.16.1)\n",
            "Requirement already satisfied: urllib3<1.23,>=1.21.1 in /usr/local/lib/python3.6/dist-packages (from requests<3.0.0,>=2.13.0->spacy) (1.22)\n",
            "Requirement already satisfied: certifi>=2017.4.17 in /usr/local/lib/python3.6/dist-packages (from requests<3.0.0,>=2.13.0->spacy) (2018.11.29)\n",
            "Requirement already satisfied: chardet<3.1.0,>=3.0.2 in /usr/local/lib/python3.6/dist-packages (from requests<3.0.0,>=2.13.0->spacy) (3.0.4)\n",
            "Requirement already satisfied: idna<2.7,>=2.5 in /usr/local/lib/python3.6/dist-packages (from requests<3.0.0,>=2.13.0->spacy) (2.6)\n",
            "Requirement already satisfied: six<2.0.0,>=1.10.0 in /usr/local/lib/python3.6/dist-packages (from thinc<6.13.0,>=6.12.1->spacy) (1.11.0)\n",
            "Requirement already satisfied: msgpack<0.6.0,>=0.5.6 in /usr/local/lib/python3.6/dist-packages (from thinc<6.13.0,>=6.12.1->spacy) (0.5.6)\n",
            "Requirement already satisfied: msgpack-numpy<0.4.4 in /usr/local/lib/python3.6/dist-packages (from thinc<6.13.0,>=6.12.1->spacy) (0.4.3.2)\n",
            "Requirement already satisfied: wrapt<1.11.0,>=1.10.0 in /usr/local/lib/python3.6/dist-packages (from thinc<6.13.0,>=6.12.1->spacy) (1.10.11)\n",
            "Requirement already satisfied: tqdm<5.0.0,>=4.10.0 in /usr/local/lib/python3.6/dist-packages (from thinc<6.13.0,>=6.12.1->spacy) (4.28.1)\n",
            "Requirement already satisfied: cytoolz<0.10,>=0.9.0 in /usr/local/lib/python3.6/dist-packages (from thinc<6.13.0,>=6.12.1->spacy) (0.9.0.1)\n",
            "Requirement already satisfied: toolz>=0.8.0 in /usr/local/lib/python3.6/dist-packages (from cytoolz<0.10,>=0.9.0->thinc<6.13.0,>=6.12.1->spacy) (0.9.0)\n",
            "Requirement already satisfied: en_core_web_sm==2.0.0 from https://github.com/explosion/spacy-models/releases/download/en_core_web_sm-2.0.0/en_core_web_sm-2.0.0.tar.gz#egg=en_core_web_sm==2.0.0 in /usr/local/lib/python3.6/dist-packages (2.0.0)\n",
            "\n",
            "\u001b[93m    Linking successful\u001b[0m\n",
            "    /usr/local/lib/python3.6/dist-packages/en_core_web_sm -->\n",
            "    /usr/local/lib/python3.6/dist-packages/spacy/data/en\n",
            "\n",
            "    You can now load the model via spacy.load('en')\n",
            "\n"
          ],
          "name": "stdout"
        }
      ]
    },
    {
      "metadata": {
        "id": "bPMKMGD77dKT",
        "colab_type": "code",
        "colab": {}
      },
      "cell_type": "code",
      "source": [
        "data['headline'] = data.apply(lambda row: str(row['headline']).replace('\\n', ''), axis=1)"
      ],
      "execution_count": 0,
      "outputs": []
    },
    {
      "metadata": {
        "id": "1KsUVlaYOg-k",
        "colab_type": "code",
        "colab": {}
      },
      "cell_type": "code",
      "source": [
        "data['sentenceLen'] = data.apply(lambda row: len(str(row['headline'])), axis=1)"
      ],
      "execution_count": 0,
      "outputs": []
    },
    {
      "metadata": {
        "id": "S-FCa2b4OhV1",
        "colab_type": "code",
        "outputId": "edbdf43f-639e-4ee6-9b20-92b7ce59ac05",
        "colab": {
          "base_uri": "https://localhost:8080/",
          "height": 34
        }
      },
      "cell_type": "code",
      "source": [
        "print(data['sentenceLen'].mean(), data['sentenceLen'].std())"
      ],
      "execution_count": 0,
      "outputs": [
        {
          "output_type": "stream",
          "text": [
            "45.062249045371274 37.61661672794296\n"
          ],
          "name": "stdout"
        }
      ]
    },
    {
      "metadata": {
        "id": "R6WW8wNj9SfA",
        "colab_type": "code",
        "outputId": "bb0925e2-24e2-428e-9a67-e4cbdcf23ef9",
        "colab": {
          "base_uri": "https://localhost:8080/",
          "height": 204
        }
      },
      "cell_type": "code",
      "source": [
        "data.head()"
      ],
      "execution_count": 0,
      "outputs": [
        {
          "output_type": "execute_result",
          "data": {
            "text/html": [
              "<div>\n",
              "<style scoped>\n",
              "    .dataframe tbody tr th:only-of-type {\n",
              "        vertical-align: middle;\n",
              "    }\n",
              "\n",
              "    .dataframe tbody tr th {\n",
              "        vertical-align: top;\n",
              "    }\n",
              "\n",
              "    .dataframe thead th {\n",
              "        text-align: right;\n",
              "    }\n",
              "</style>\n",
              "<table border=\"1\" class=\"dataframe\">\n",
              "  <thead>\n",
              "    <tr style=\"text-align: right;\">\n",
              "      <th></th>\n",
              "      <th>overview</th>\n",
              "      <th>headline</th>\n",
              "      <th>text</th>\n",
              "      <th>sectionLabel</th>\n",
              "      <th>title</th>\n",
              "    </tr>\n",
              "  </thead>\n",
              "  <tbody>\n",
              "    <tr>\n",
              "      <th>0</th>\n",
              "      <td>So you're a new or aspiring artist and your c...</td>\n",
              "      <td>Sell yourself first.</td>\n",
              "      <td>Before doing anything else, stop and sum up y...</td>\n",
              "      <td>Steps</td>\n",
              "      <td>How to Sell Fine Art Online</td>\n",
              "    </tr>\n",
              "    <tr>\n",
              "      <th>1</th>\n",
              "      <td>If you want to be well-read, then, in the wor...</td>\n",
              "      <td>Read the classics before 1600.</td>\n",
              "      <td>Reading the classics is the very first thing ...</td>\n",
              "      <td>Reading the Classics</td>\n",
              "      <td>How to Be Well Read</td>\n",
              "    </tr>\n",
              "    <tr>\n",
              "      <th>2</th>\n",
              "      <td>So you're a new or aspiring artist and your c...</td>\n",
              "      <td>Join online artist communities.</td>\n",
              "      <td>Depending on what scale you intend to sell yo...</td>\n",
              "      <td>Steps</td>\n",
              "      <td>How to Sell Fine Art Online</td>\n",
              "    </tr>\n",
              "    <tr>\n",
              "      <th>3</th>\n",
              "      <td>So you're a new or aspiring artist and your c...</td>\n",
              "      <td>Make yourself public.</td>\n",
              "      <td>Get yourself out there as best as you can by ...</td>\n",
              "      <td>Steps</td>\n",
              "      <td>How to Sell Fine Art Online</td>\n",
              "    </tr>\n",
              "    <tr>\n",
              "      <th>4</th>\n",
              "      <td>So you're a new or aspiring artist and your c...</td>\n",
              "      <td>Blog about your artwork.</td>\n",
              "      <td>Given the hundreds of free blogging websites,...</td>\n",
              "      <td>Steps</td>\n",
              "      <td>How to Sell Fine Art Online</td>\n",
              "    </tr>\n",
              "  </tbody>\n",
              "</table>\n",
              "</div>"
            ],
            "text/plain": [
              "                                            overview  \\\n",
              "0   So you're a new or aspiring artist and your c...   \n",
              "1   If you want to be well-read, then, in the wor...   \n",
              "2   So you're a new or aspiring artist and your c...   \n",
              "3   So you're a new or aspiring artist and your c...   \n",
              "4   So you're a new or aspiring artist and your c...   \n",
              "\n",
              "                          headline  \\\n",
              "0             Sell yourself first.   \n",
              "1   Read the classics before 1600.   \n",
              "2  Join online artist communities.   \n",
              "3            Make yourself public.   \n",
              "4         Blog about your artwork.   \n",
              "\n",
              "                                                text          sectionLabel  \\\n",
              "0   Before doing anything else, stop and sum up y...                 Steps   \n",
              "1   Reading the classics is the very first thing ...  Reading the Classics   \n",
              "2   Depending on what scale you intend to sell yo...                 Steps   \n",
              "3   Get yourself out there as best as you can by ...                 Steps   \n",
              "4   Given the hundreds of free blogging websites,...                 Steps   \n",
              "\n",
              "                         title  \n",
              "0  How to Sell Fine Art Online  \n",
              "1          How to Be Well Read  \n",
              "2  How to Sell Fine Art Online  \n",
              "3  How to Sell Fine Art Online  \n",
              "4  How to Sell Fine Art Online  "
            ]
          },
          "metadata": {
            "tags": []
          },
          "execution_count": 15
        }
      ]
    },
    {
      "metadata": {
        "id": "bCMl709U9U-x",
        "colab_type": "code",
        "colab": {}
      },
      "cell_type": "code",
      "source": [
        "import torch\n",
        "import torchtext\n",
        "import spacy\n",
        "nlp = spacy.load('en_core_web_sm')"
      ],
      "execution_count": 0,
      "outputs": []
    },
    {
      "metadata": {
        "id": "8cnJMiWg9c3y",
        "colab_type": "code",
        "outputId": "6653c7ae-dc45-4dec-943a-cc10f452e6e1",
        "colab": {
          "base_uri": "https://localhost:8080/",
          "height": 34
        }
      },
      "cell_type": "code",
      "source": [
        "%%timeit\n",
        "nlp(data['headline'][1585622])[0].pos_"
      ],
      "execution_count": 0,
      "outputs": [
        {
          "output_type": "stream",
          "text": [
            "10 loops, best of 3: 21.7 ms per loop\n"
          ],
          "name": "stdout"
        }
      ]
    },
    {
      "metadata": {
        "id": "W9SnLhHE9dLt",
        "colab_type": "code",
        "outputId": "48fff546-63a6-446b-a696-0948d34c1c7b",
        "colab": {
          "base_uri": "https://localhost:8080/",
          "height": 181
        }
      },
      "cell_type": "code",
      "source": [
        "random_sample = data.sample(50000)\n",
        "random_sample['s1Pos'] = random_sample.apply(lambda row: nlp(row['headline'])[0].pos_, axis=1)"
      ],
      "execution_count": 0,
      "outputs": [
        {
          "output_type": "error",
          "ename": "NameError",
          "evalue": "ignored",
          "traceback": [
            "\u001b[0;31m---------------------------------------------------------------------------\u001b[0m",
            "\u001b[0;31mNameError\u001b[0m                                 Traceback (most recent call last)",
            "\u001b[0;32m<ipython-input-1-fce59cbf202d>\u001b[0m in \u001b[0;36m<module>\u001b[0;34m()\u001b[0m\n\u001b[0;32m----> 1\u001b[0;31m \u001b[0mrandom_sample\u001b[0m \u001b[0;34m=\u001b[0m \u001b[0mdata\u001b[0m\u001b[0;34m.\u001b[0m\u001b[0msample\u001b[0m\u001b[0;34m(\u001b[0m\u001b[0;36m50000\u001b[0m\u001b[0;34m)\u001b[0m\u001b[0;34m\u001b[0m\u001b[0;34m\u001b[0m\u001b[0m\n\u001b[0m\u001b[1;32m      2\u001b[0m \u001b[0mrandom_sample\u001b[0m\u001b[0;34m[\u001b[0m\u001b[0;34m's1Pos'\u001b[0m\u001b[0;34m]\u001b[0m \u001b[0;34m=\u001b[0m \u001b[0mrandom_sample\u001b[0m\u001b[0;34m.\u001b[0m\u001b[0mapply\u001b[0m\u001b[0;34m(\u001b[0m\u001b[0;32mlambda\u001b[0m \u001b[0mrow\u001b[0m\u001b[0;34m:\u001b[0m \u001b[0mnlp\u001b[0m\u001b[0;34m(\u001b[0m\u001b[0mrow\u001b[0m\u001b[0;34m[\u001b[0m\u001b[0;34m'headline'\u001b[0m\u001b[0;34m]\u001b[0m\u001b[0;34m)\u001b[0m\u001b[0;34m[\u001b[0m\u001b[0;36m0\u001b[0m\u001b[0;34m]\u001b[0m\u001b[0;34m.\u001b[0m\u001b[0mpos_\u001b[0m\u001b[0;34m,\u001b[0m \u001b[0maxis\u001b[0m\u001b[0;34m=\u001b[0m\u001b[0;36m1\u001b[0m\u001b[0;34m)\u001b[0m\u001b[0;34m\u001b[0m\u001b[0;34m\u001b[0m\u001b[0m\n",
            "\u001b[0;31mNameError\u001b[0m: name 'data' is not defined"
          ]
        }
      ]
    },
    {
      "metadata": {
        "id": "Z0RVAj249diy",
        "colab_type": "code",
        "outputId": "1ce80973-e292-41ef-ceb8-a1ccc648be36",
        "colab": {
          "base_uri": "https://localhost:8080/",
          "height": 204
        }
      },
      "cell_type": "code",
      "source": [
        "random_sample.head()"
      ],
      "execution_count": 0,
      "outputs": [
        {
          "output_type": "execute_result",
          "data": {
            "text/html": [
              "<div>\n",
              "<style scoped>\n",
              "    .dataframe tbody tr th:only-of-type {\n",
              "        vertical-align: middle;\n",
              "    }\n",
              "\n",
              "    .dataframe tbody tr th {\n",
              "        vertical-align: top;\n",
              "    }\n",
              "\n",
              "    .dataframe thead th {\n",
              "        text-align: right;\n",
              "    }\n",
              "</style>\n",
              "<table border=\"1\" class=\"dataframe\">\n",
              "  <thead>\n",
              "    <tr style=\"text-align: right;\">\n",
              "      <th></th>\n",
              "      <th>overview</th>\n",
              "      <th>headline</th>\n",
              "      <th>text</th>\n",
              "      <th>sectionLabel</th>\n",
              "      <th>title</th>\n",
              "      <th>s1Pos</th>\n",
              "    </tr>\n",
              "  </thead>\n",
              "  <tbody>\n",
              "    <tr>\n",
              "      <th>1145703</th>\n",
              "      <td>You’ve got a brand new computer, and all that...</td>\n",
              "      <td>Connect your monitor.</td>\n",
              "      <td>You may have several options when it comes to...</td>\n",
              "      <td>Steps</td>\n",
              "      <td>How to Hook up a Computer</td>\n",
              "      <td>VERB</td>\n",
              "    </tr>\n",
              "    <tr>\n",
              "      <th>859715</th>\n",
              "      <td>Do you want to play school with friends or fa...</td>\n",
              "      <td>What you need outside of your room... You will...</td>\n",
              "      <td>You don't necessarily need to have an ACTUAL ...</td>\n",
              "      <td>Steps</td>\n",
              "      <td>How to Turn Your Bedroom Into a Classroom</td>\n",
              "      <td>NOUN</td>\n",
              "    </tr>\n",
              "    <tr>\n",
              "      <th>210190</th>\n",
              "      <td>Eagle Scout is the highest rank that can be a...</td>\n",
              "      <td>Serve your troop for six months as a leader.</td>\n",
              "      <td>In order to meet the Eagle Scout requirements...</td>\n",
              "      <td>Fulfilling Eagle Scout Requirements</td>\n",
              "      <td>How to Become an Eagle Scout</td>\n",
              "      <td>VERB</td>\n",
              "    </tr>\n",
              "    <tr>\n",
              "      <th>1434387</th>\n",
              "      <td>Lightning can damage and even destroy trees, ...</td>\n",
              "      <td>Ascend to the highest point in the tree.\\n\\n</td>\n",
              "      <td>NaN</td>\n",
              "      <td>Steps</td>\n",
              "      <td>How to Protect Trees from Lightning</td>\n",
              "      <td>VERB</td>\n",
              "    </tr>\n",
              "    <tr>\n",
              "      <th>146280</th>\n",
              "      <td>Many people enjoy writing fanfiction about th...</td>\n",
              "      <td>Decide what the offspring will be like.</td>\n",
              "      <td>This will be especially important if you inte...</td>\n",
              "      <td>Steps</td>\n",
              "      <td>How to Write a Believable Pregnancy Fanfiction</td>\n",
              "      <td>VERB</td>\n",
              "    </tr>\n",
              "  </tbody>\n",
              "</table>\n",
              "</div>"
            ],
            "text/plain": [
              "                                                  overview  \\\n",
              "1145703   You’ve got a brand new computer, and all that...   \n",
              "859715    Do you want to play school with friends or fa...   \n",
              "210190    Eagle Scout is the highest rank that can be a...   \n",
              "1434387   Lightning can damage and even destroy trees, ...   \n",
              "146280    Many people enjoy writing fanfiction about th...   \n",
              "\n",
              "                                                  headline  \\\n",
              "1145703                              Connect your monitor.   \n",
              "859715   What you need outside of your room... You will...   \n",
              "210190        Serve your troop for six months as a leader.   \n",
              "1434387       Ascend to the highest point in the tree.\\n\\n   \n",
              "146280             Decide what the offspring will be like.   \n",
              "\n",
              "                                                      text  \\\n",
              "1145703   You may have several options when it comes to...   \n",
              "859715    You don't necessarily need to have an ACTUAL ...   \n",
              "210190    In order to meet the Eagle Scout requirements...   \n",
              "1434387                                                NaN   \n",
              "146280    This will be especially important if you inte...   \n",
              "\n",
              "                                sectionLabel  \\\n",
              "1145703                                Steps   \n",
              "859715                                 Steps   \n",
              "210190   Fulfilling Eagle Scout Requirements   \n",
              "1434387                                Steps   \n",
              "146280                                 Steps   \n",
              "\n",
              "                                                  title s1Pos  \n",
              "1145703                       How to Hook up a Computer  VERB  \n",
              "859715        How to Turn Your Bedroom Into a Classroom  NOUN  \n",
              "210190                     How to Become an Eagle Scout  VERB  \n",
              "1434387             How to Protect Trees from Lightning  VERB  \n",
              "146280   How to Write a Believable Pregnancy Fanfiction  VERB  "
            ]
          },
          "metadata": {
            "tags": []
          },
          "execution_count": 80
        }
      ]
    },
    {
      "metadata": {
        "id": "nJGTeNU3FNmj",
        "colab_type": "code",
        "outputId": "d2d0a591-69fb-4d6f-8968-dce22861fb08",
        "colab": {
          "base_uri": "https://localhost:8080/",
          "height": 306
        }
      },
      "cell_type": "code",
      "source": [
        "random_sample['s1Pos'].value_counts(normalize=True)"
      ],
      "execution_count": 0,
      "outputs": [
        {
          "output_type": "execute_result",
          "data": {
            "text/plain": [
              "VERB     0.83454\n",
              "NOUN     0.04810\n",
              "PROPN    0.04010\n",
              "ADP      0.02360\n",
              "ADV      0.01938\n",
              "ADJ      0.01700\n",
              "SPACE    0.00544\n",
              "DET      0.00472\n",
              "PRON     0.00312\n",
              "PART     0.00138\n",
              "INTJ     0.00090\n",
              "PUNCT    0.00074\n",
              "NUM      0.00056\n",
              "CCONJ    0.00038\n",
              "SYM      0.00002\n",
              "X        0.00002\n",
              "Name: s1Pos, dtype: float64"
            ]
          },
          "metadata": {
            "tags": []
          },
          "execution_count": 81
        }
      ]
    },
    {
      "metadata": {
        "id": "Xrkvud3XVTLq",
        "colab_type": "code",
        "outputId": "8265b2ca-4606-4a83-dd31-e8c532a41e30",
        "colab": {
          "base_uri": "https://localhost:8080/",
          "height": 289
        }
      },
      "cell_type": "code",
      "source": [
        "random_sample = data.sample(5000)\n",
        "# random_sample['numEnts'] = random_sample.apply(lambda row: len(nlp(row['headline']).ents), axis=1)\n",
        "random_sample['namedNums'] = random_sample.apply(lambda row: sum([1 for x in nlp(row['headline']) if x.like_num]), axis=1)\n",
        "random_sample['sentenceLength'] = random_sample.apply(lambda row: len(nlp(row['headline'])), axis=1)\n",
        "random_sample.head()"
      ],
      "execution_count": 0,
      "outputs": [
        {
          "output_type": "execute_result",
          "data": {
            "text/html": [
              "<div>\n",
              "<style scoped>\n",
              "    .dataframe tbody tr th:only-of-type {\n",
              "        vertical-align: middle;\n",
              "    }\n",
              "\n",
              "    .dataframe tbody tr th {\n",
              "        vertical-align: top;\n",
              "    }\n",
              "\n",
              "    .dataframe thead th {\n",
              "        text-align: right;\n",
              "    }\n",
              "</style>\n",
              "<table border=\"1\" class=\"dataframe\">\n",
              "  <thead>\n",
              "    <tr style=\"text-align: right;\">\n",
              "      <th></th>\n",
              "      <th>overview</th>\n",
              "      <th>headline</th>\n",
              "      <th>text</th>\n",
              "      <th>sectionLabel</th>\n",
              "      <th>title</th>\n",
              "      <th>sentenceLen</th>\n",
              "      <th>namedNums</th>\n",
              "      <th>sentenceLength</th>\n",
              "    </tr>\n",
              "  </thead>\n",
              "  <tbody>\n",
              "    <tr>\n",
              "      <th>1459945</th>\n",
              "      <td>A project may require bending steel tubing fo...</td>\n",
              "      <td>Crank the vice on the roller until it’s tight.</td>\n",
              "      <td>Most tube rollers will have a hex head bit, s...</td>\n",
              "      <td>Bending Using a Tube Roller</td>\n",
              "      <td>How to Bend Steel Tubing3</td>\n",
              "      <td>46</td>\n",
              "      <td>0</td>\n",
              "      <td>11</td>\n",
              "    </tr>\n",
              "    <tr>\n",
              "      <th>684874</th>\n",
              "      <td>With Kik Messenger, communication is not limi...</td>\n",
              "      <td>Tap any GIF in the gallery to see it larger.</td>\n",
              "      <td>When the GIF is enlarged, you will notice a b...</td>\n",
              "      <td>Animated GIFs from Kik</td>\n",
              "      <td>How to Send Attachments on Kik Messenger2</td>\n",
              "      <td>44</td>\n",
              "      <td>0</td>\n",
              "      <td>11</td>\n",
              "    </tr>\n",
              "    <tr>\n",
              "      <th>859135</th>\n",
              "      <td>The Nickelodeon program \"Zoey 101\" is a comed...</td>\n",
              "      <td>Paint the room.</td>\n",
              "      <td>Paint two-thirds of the wall lilac/lavender. ...</td>\n",
              "      <td>Making the change</td>\n",
              "      <td>How to Get a Room Like Zoey 101's</td>\n",
              "      <td>15</td>\n",
              "      <td>0</td>\n",
              "      <td>4</td>\n",
              "    </tr>\n",
              "    <tr>\n",
              "      <th>1329129</th>\n",
              "      <td>For all of human history, people have managed...</td>\n",
              "      <td>Become familiar with the different types of fo...</td>\n",
              "      <td>We often think of the vegetables we see in th...</td>\n",
              "      <td>Planning</td>\n",
              "      <td>How to Grow Your Own Food1</td>\n",
              "      <td>55</td>\n",
              "      <td>0</td>\n",
              "      <td>10</td>\n",
              "    </tr>\n",
              "    <tr>\n",
              "      <th>1218898</th>\n",
              "      <td>Going for a hayride is a wonderful harvest-ti...</td>\n",
              "      <td>Check for allergies.</td>\n",
              "      <td>Not everyone has fun around hay; for those wi...</td>\n",
              "      <td>Steps</td>\n",
              "      <td>How to Enjoy a Hayride</td>\n",
              "      <td>20</td>\n",
              "      <td>0</td>\n",
              "      <td>4</td>\n",
              "    </tr>\n",
              "  </tbody>\n",
              "</table>\n",
              "</div>"
            ],
            "text/plain": [
              "                                                  overview  \\\n",
              "1459945   A project may require bending steel tubing fo...   \n",
              "684874    With Kik Messenger, communication is not limi...   \n",
              "859135    The Nickelodeon program \"Zoey 101\" is a comed...   \n",
              "1329129   For all of human history, people have managed...   \n",
              "1218898   Going for a hayride is a wonderful harvest-ti...   \n",
              "\n",
              "                                                  headline  \\\n",
              "1459945     Crank the vice on the roller until it’s tight.   \n",
              "684874        Tap any GIF in the gallery to see it larger.   \n",
              "859135                                     Paint the room.   \n",
              "1329129  Become familiar with the different types of fo...   \n",
              "1218898                               Check for allergies.   \n",
              "\n",
              "                                                      text  \\\n",
              "1459945   Most tube rollers will have a hex head bit, s...   \n",
              "684874    When the GIF is enlarged, you will notice a b...   \n",
              "859135    Paint two-thirds of the wall lilac/lavender. ...   \n",
              "1329129   We often think of the vegetables we see in th...   \n",
              "1218898   Not everyone has fun around hay; for those wi...   \n",
              "\n",
              "                        sectionLabel  \\\n",
              "1459945  Bending Using a Tube Roller   \n",
              "684874        Animated GIFs from Kik   \n",
              "859135             Making the change   \n",
              "1329129                     Planning   \n",
              "1218898                        Steps   \n",
              "\n",
              "                                             title  sentenceLen  namedNums  \\\n",
              "1459945                  How to Bend Steel Tubing3           46          0   \n",
              "684874   How to Send Attachments on Kik Messenger2           44          0   \n",
              "859135           How to Get a Room Like Zoey 101's           15          0   \n",
              "1329129                 How to Grow Your Own Food1           55          0   \n",
              "1218898                     How to Enjoy a Hayride           20          0   \n",
              "\n",
              "         sentenceLength  \n",
              "1459945              11  \n",
              "684874               11  \n",
              "859135                4  \n",
              "1329129              10  \n",
              "1218898               4  "
            ]
          },
          "metadata": {
            "tags": []
          },
          "execution_count": 22
        }
      ]
    },
    {
      "metadata": {
        "id": "fgBCx-IJQTtJ",
        "colab_type": "code",
        "outputId": "f1c1723f-bb3d-40a4-97a5-ed8ed111b774",
        "colab": {
          "base_uri": "https://localhost:8080/",
          "height": 289
        }
      },
      "cell_type": "code",
      "source": [
        "random_sample[random_sample['namedNums'] > 0].head()"
      ],
      "execution_count": 0,
      "outputs": [
        {
          "output_type": "execute_result",
          "data": {
            "text/html": [
              "<div>\n",
              "<style scoped>\n",
              "    .dataframe tbody tr th:only-of-type {\n",
              "        vertical-align: middle;\n",
              "    }\n",
              "\n",
              "    .dataframe tbody tr th {\n",
              "        vertical-align: top;\n",
              "    }\n",
              "\n",
              "    .dataframe thead th {\n",
              "        text-align: right;\n",
              "    }\n",
              "</style>\n",
              "<table border=\"1\" class=\"dataframe\">\n",
              "  <thead>\n",
              "    <tr style=\"text-align: right;\">\n",
              "      <th></th>\n",
              "      <th>overview</th>\n",
              "      <th>headline</th>\n",
              "      <th>text</th>\n",
              "      <th>sectionLabel</th>\n",
              "      <th>title</th>\n",
              "      <th>sentenceLen</th>\n",
              "      <th>namedNums</th>\n",
              "      <th>sentenceLength</th>\n",
              "    </tr>\n",
              "  </thead>\n",
              "  <tbody>\n",
              "    <tr>\n",
              "      <th>400296</th>\n",
              "      <td>A horse is a big time commitment. They can co...</td>\n",
              "      <td>Provide your horse with the right food.Your ho...</td>\n",
              "      <td>worth of food every day. Horses have relative...</td>\n",
              "      <td>Ensuring Proper Food and Shelter</td>\n",
              "      <td>How to Look After a Horse</td>\n",
              "      <td>108</td>\n",
              "      <td>1</td>\n",
              "      <td>25</td>\n",
              "    </tr>\n",
              "    <tr>\n",
              "      <th>1490463</th>\n",
              "      <td>Waterfall bracelets have become trendy becaus...</td>\n",
              "      <td>Complete normally as for method one.</td>\n",
              "      <td>NaN</td>\n",
              "      <td>Fishtail waterfall elastic bracelet</td>\n",
              "      <td>How to Make a Waterfall Bracelet with Two Forks2</td>\n",
              "      <td>36</td>\n",
              "      <td>1</td>\n",
              "      <td>8</td>\n",
              "    </tr>\n",
              "    <tr>\n",
              "      <th>1074594</th>\n",
              "      <td>Tortilla chips are the perfect pre-prandial s...</td>\n",
              "      <td>Zap your tortilla wedges in the microwave, on ...</td>\n",
              "      <td>At this point, your tortilla wedges should be...</td>\n",
              "      <td>Zapping in the Microwave</td>\n",
              "      <td>How to Make Tortilla Chips3</td>\n",
              "      <td>81</td>\n",
              "      <td>1</td>\n",
              "      <td>16</td>\n",
              "    </tr>\n",
              "    <tr>\n",
              "      <th>1493495</th>\n",
              "      <td>\\nThe Christmas holidays can get lost in all...</td>\n",
              "      <td>When using either method, remove the pine cone...</td>\n",
              "      <td>NaN</td>\n",
              "      <td>Steps</td>\n",
              "      <td>How to Make a Pine Cone Center Piece</td>\n",
              "      <td>92</td>\n",
              "      <td>2</td>\n",
              "      <td>19</td>\n",
              "    </tr>\n",
              "    <tr>\n",
              "      <th>749470</th>\n",
              "      <td>Bouillabaisse is a French fish stew, made wit...</td>\n",
              "      <td>Pour the olive oil into one of the cooking pot...</td>\n",
              "      <td>NaN</td>\n",
              "      <td>Steps</td>\n",
              "      <td>How to Make a Bouillabaisse</td>\n",
              "      <td>77</td>\n",
              "      <td>1</td>\n",
              "      <td>17</td>\n",
              "    </tr>\n",
              "  </tbody>\n",
              "</table>\n",
              "</div>"
            ],
            "text/plain": [
              "                                                  overview  \\\n",
              "400296    A horse is a big time commitment. They can co...   \n",
              "1490463   Waterfall bracelets have become trendy becaus...   \n",
              "1074594   Tortilla chips are the perfect pre-prandial s...   \n",
              "1493495    \\nThe Christmas holidays can get lost in all...   \n",
              "749470    Bouillabaisse is a French fish stew, made wit...   \n",
              "\n",
              "                                                  headline  \\\n",
              "400296   Provide your horse with the right food.Your ho...   \n",
              "1490463               Complete normally as for method one.   \n",
              "1074594  Zap your tortilla wedges in the microwave, on ...   \n",
              "1493495  When using either method, remove the pine cone...   \n",
              "749470   Pour the olive oil into one of the cooking pot...   \n",
              "\n",
              "                                                      text  \\\n",
              "400296    worth of food every day. Horses have relative...   \n",
              "1490463                                                NaN   \n",
              "1074594   At this point, your tortilla wedges should be...   \n",
              "1493495                                                NaN   \n",
              "749470                                                 NaN   \n",
              "\n",
              "                                sectionLabel  \\\n",
              "400296      Ensuring Proper Food and Shelter   \n",
              "1490463  Fishtail waterfall elastic bracelet   \n",
              "1074594             Zapping in the Microwave   \n",
              "1493495                                Steps   \n",
              "749470                                 Steps   \n",
              "\n",
              "                                                    title  sentenceLen  \\\n",
              "400296                          How to Look After a Horse          108   \n",
              "1490463  How to Make a Waterfall Bracelet with Two Forks2           36   \n",
              "1074594                       How to Make Tortilla Chips3           81   \n",
              "1493495              How to Make a Pine Cone Center Piece           92   \n",
              "749470                        How to Make a Bouillabaisse           77   \n",
              "\n",
              "         namedNums  sentenceLength  \n",
              "400296           1              25  \n",
              "1490463          1               8  \n",
              "1074594          1              16  \n",
              "1493495          2              19  \n",
              "749470           1              17  "
            ]
          },
          "metadata": {
            "tags": []
          },
          "execution_count": 23
        }
      ]
    },
    {
      "metadata": {
        "id": "xhFusidgVkQp",
        "colab_type": "code",
        "outputId": "06b24b52-632b-481b-9c31-ccb3faea6936",
        "colab": {
          "base_uri": "https://localhost:8080/",
          "height": 51
        }
      },
      "cell_type": "code",
      "source": [
        "print(random_sample['namedNums'].sum() / random_sample['sentenceLength'].sum())\n",
        "print(len(random_sample[random_sample['namedNums'] > 0]) / len(random_sample))\n",
        "# random_sample['namedEnts'].sum() / random_sample['sentenceLength'].sum()"
      ],
      "execution_count": 0,
      "outputs": [
        {
          "output_type": "stream",
          "text": [
            "0.00780678738870489\n",
            "0.0558\n"
          ],
          "name": "stdout"
        }
      ]
    },
    {
      "metadata": {
        "id": "jSlj06leAz2I",
        "colab_type": "text"
      },
      "cell_type": "markdown",
      "source": [
        "We can that each row corresponds to a single article. The `headline` field consists of a concatenation of every boldface headline in the article. Headlines are separated with `\\n`. The `text` field should include a concatenation of all the \"content\" paragraphs in the article. We can see that paragraphs are separated with `\\n\\n`:"
      ]
    },
    {
      "metadata": {
        "id": "adBaawmC_5Yt",
        "colab_type": "code",
        "outputId": "f9b68f50-7e6c-44b4-b464-e8dfcc8623c5",
        "colab": {
          "base_uri": "https://localhost:8080/",
          "height": 1363
        }
      },
      "cell_type": "code",
      "source": [
        "print(\"headlines:\", data[\"headline\"][10021])\n",
        "print(\"***\\nParagraphs:\\n\", data[\"text\"][32])"
      ],
      "execution_count": 0,
      "outputs": [
        {
          "output_type": "stream",
          "text": [
            "headlines: \n",
            "Write every day.,\n",
            "Work on multiple projects at once.,\n",
            "Pay attention to trends.,\n",
            "Take breaks.,\n",
            "Have people read your work.,\n",
            "Study other scripts.,\n",
            "Be your own agent.,\n",
            "Learn to live with rejection.,\n",
            "Consider moving to a vibrant film city.,\n",
            "Network.,\n",
            "Get a job in the film industry.,\n",
            "Lose your ego.,\n",
            "Know when to stick to your guns.,\n",
            "Be professional.,\n",
            "Surround yourself with people you trust.\n",
            "***\n",
            "Paragraphs:\n",
            "  It is critical that you do adequate research before buying the pet. Different animals have different needs regarding care (for example, tropical fish cannot be treated the same way as cold water fish), and even within the same species, different breeds can have different needs.\n",
            "\n",
            "\n",
            "If you are buying a dog, then buying a high energy, large breed such as a wolfhound would be unsuitable if you live in a small apartment or spend all day at work and have nowhere to let the dog roam in the day. Focus on the pet's needs, not your wants.If you want an animal like a snake instead, research is still important. It is critical that the snake has enough space to crawl around in and a heat source (such as a lightbulb).\n",
            "If you're leading an active life, choose a dog. If you are away from home a lot, though, choose a cat or some other free-roaming animal. If you just want an animal to look at and don't want to interact with it directly, or don't have lots of time, choose a fish or a snake, or other creepy-crawlies.;\n",
            ", It’s a mistake to just decide “I want a dog” (or any other animal) and to buy the animal without considering the needs and requirements of the breed.\n",
            "\n",
            "\n",
            "Some breeds are natural shepherds, which makes them great for 1 person, but some breeds (Border Collie, for example) have the sheep-herding instinct in their blood. This means that when a child roams too far from the rest of the \"herd,\" the collie will try to get it back. How does it do it with the sheep? It bites them. This may result in grave injuries to children. Please do your research on how breeds behave.\n",
            "It is important that a pet lives in an environment where it will be comfortable, safe and provided with what it needs. Some animals are very adaptable, such as cats, which can live happily in environments ranging from farm land to city centers, while others have more specific needs. For example, horses must have a lot of pastureland and somewhere safe to shelter.\n",
            "For animals that will roam the house, not being confined to tanks or cages, they will need places to sleep that are out of the way of general household traffic, where they can lie without being disturbed, such as the corner of a room. If they are a cat that will often be shut indoors, then it is also important that they have a litter tray that is regularly cleaned out.\n",
            "\n",
            ", Some pets are more expensive than other pets, and you need to be honest with yourself about whether you can afford the pet - and whether you have the time and maturity to handle it.\n",
            "\n",
            "\n",
            "Costs associated with pets include set-up supplies. Depending on the kind of pet, you might need a crate, an aquarium, and leashes.\n",
            "Don’t forget the ongoing costs of caring for a pet. You need to factor in the cost of regular food purchases, but also whether you can afford to take your pet to the veterinarian for preventative care (like shots), not just emergency care. That's essential to keep the pet healthy, and it can be quite costly.\n",
            "\n",
            ", Figure out the exercise needs (if any) of the pet before you buy it, and consider whether your lifestyle gives you enough time to meet them.Some pets don't require you to do much beyond providing them with a safe place to move about, such as buying a run for a rabbit, and making sure the tank is large enough for fish. But other pets must be exercised.\n",
            "Dogs require a more hands-on approach to exercise because they need to be walked regularly. Making sure your pet gets enough exercise can help prevent aggression and destructive behaviors.\n",
            "\n",
            ", Many foods that are edible for humans can be inappropriate for animals, making them ill when they consume them, so it is important to research what foods your pet can not eat as well as those they can eat.\n",
            "\n",
            "\n",
            "Overfeeding is as harmful as underfeeding, so it is important that your pet gets the amount of food it needs and not too much extra. For some animals, dietary requirements may change with the season; for example, if you have horses or other grazing animals, they will often require more hay during the seasons when there is less grass.\n",
            "Look at pet food labels to make sure you are purchasing food for your pet that is properly nutritious. Research which food could harm your pet.\n",
            "It is vital that all pets have a constant water supply. Check water bowls at least once a day to ensure that they have enough water and that the water is clean and not contaminated.\n",
            "\n",
            ", Many animals will largely take care of themselves, only really needing to be groomed or bathed when they manage to get very messy. Others, such as long-haired dogs or cats, may need regular grooming.\n",
            "\n",
            "\n",
            "It is a good idea to desensitize your pet to being groomed or bathed from an early age. When brushing fur, ensure any brush used on the face is soft, and if brushing long, tangled fur, take the time to work out knots gently rather than tugging. You can buy brushes for pets at pet stores.\n",
            "When bathing your pet, make sure that the water is lukewarm and that the products you use do not cause an allergic reaction - buying specialist shampoos is not always necessary, but heavily perfumed products may cause a rash for many animals.\n",
            "Consider taking your pet to a professional groomer if you aren’t sure you are competent to do it. You don’t want to accidentally injure the pet.\n",
            "\n",
            ", As pets cannot tell us when they are ill or injured, it is up to us to keep an eye on them and look out for any signs of injury.\n",
            "\n",
            "\n",
            "Knowing your pet's normal behavior is very important; if they are sick or injured, they will often act unusually, such as sleeping more, going off their food, etc. If they begin to act oddly, check them for any injuries and keep an eye on their food and water intake; if they stop eating or drinking, or they have obvious wounds that are concerning you, then take them to the vet.\n",
            "Make sure that your pet has all of the proper vaccines and other preventative medication suggested by your veterinarian, such as heart worm pills for some dogs.\n",
            "\n",
            ", A major part of caring for a pet is training. Training is essential for the safety of the animal and the people who interact with it.If you have an apartment cat, the litter box is very important from the start. You have to teach your cat to use the litter box and to think of it as its only place to do the necessary business.The litter box needs frequent cleaning (once or twice a day, depending on the cat).Feeding is approximately 2 or 3 times a day, again, depending on the cat. Water should be supplied continuously.\n",
            "Dogs need to be trained so they understand proper behavior, such as where to go to the bathroom and not to jump on people when they enter the house. It’s important that the owner establishes control, but never in an abusive or harmful way to the animal.\n",
            "\n",
            ", Some animals require more attention than others, so the amount of time they need is often relative. Just be sure than you are capable of fulfilling whatever that need may be.\n",
            "\n",
            "\n",
            "Try to take a little time out of each day to spend with your pet, even if it's just sitting down with them. More often than not, your pet would be more than happy to relax with you.\n",
            "Dogs should be walked, and hamsters need time to run around in their balls.Play should be fun for both your pet and you, but make sure it is safe and monitored at all times.\n",
            "Research whether your pet breed needs to socialize with other animals. Play with it - dogs are very social animals so they need to spend time with their owners. With toys or simply chasing him around is enough for exercising. Dogs have a natural craving for chewing things, so buy a chewing toy to keep him entertained.\n",
            "\n",
            ", Love is what your relationship with your pet has to be about. Show him or her your affection by petting and playing.\n",
            "\n",
            "\n",
            "Your pet will be a member of your family, so treat it like one. A good cuddle will do the both of you good. Pets respond to the tone of people's voices as well as touch.\n",
            "Horses need attention. Like wild horses, if you don't love them properly, they pretty much turn into mustang. Give them a treat once in a while, take a walk with them, or ride them for fun.\n",
            "Train a pet with positive reinforcement, never cruelty or abuse.Keep your pet and its environment clean.\n",
            "If you have a small animal, clean their cage weekly. You're not showing your pet love if you let it sit in filth. If you have a dog, vacuum fur regularly from the house and wash their dog bed from time to time. Neglecting to clean your pet could result in infection, so keep on top of its cleanliness!\n",
            "\n",
            "\n"
          ],
          "name": "stdout"
        }
      ]
    },
    {
      "metadata": {
        "id": "nIAoTA7dCEWz",
        "colab_type": "text"
      },
      "cell_type": "markdown",
      "source": [
        "Note that some of the paragraphs begin with `\", \"`. I'm not sure why this is. This will need to be handle when we clean the data. Also notice that paragraphs are split in to multiple lines. The `\\n` character in paragraphs will need to be removed.\n"
      ]
    },
    {
      "metadata": {
        "id": "DfMRqYN9YQ5v",
        "colab_type": "text"
      },
      "cell_type": "markdown",
      "source": [
        "# Loading the Data into PyTorch"
      ]
    },
    {
      "metadata": {
        "id": "OQIXjlKrXJPE",
        "colab_type": "code",
        "outputId": "91cdc27a-91d7-4d89-c21d-67d6f7848fd4",
        "colab": {
          "base_uri": "https://localhost:8080/",
          "height": 1126
        }
      },
      "cell_type": "code",
      "source": [
        "!pip install torch\n",
        "!pip install torchtext\n",
        "!pip install spacy\n",
        "!python -m spacy download en"
      ],
      "execution_count": 0,
      "outputs": [
        {
          "output_type": "stream",
          "text": [
            "Requirement already satisfied: torch in /usr/local/lib/python3.6/dist-packages (1.0.1.post2)\n",
            "Requirement already satisfied: torchtext in /usr/local/lib/python3.6/dist-packages (0.3.1)\n",
            "Requirement already satisfied: tqdm in /usr/local/lib/python3.6/dist-packages (from torchtext) (4.28.1)\n",
            "Requirement already satisfied: torch in /usr/local/lib/python3.6/dist-packages (from torchtext) (1.0.1.post2)\n",
            "Requirement already satisfied: numpy in /usr/local/lib/python3.6/dist-packages (from torchtext) (1.14.6)\n",
            "Requirement already satisfied: requests in /usr/local/lib/python3.6/dist-packages (from torchtext) (2.18.4)\n",
            "Requirement already satisfied: idna<2.7,>=2.5 in /usr/local/lib/python3.6/dist-packages (from requests->torchtext) (2.6)\n",
            "Requirement already satisfied: certifi>=2017.4.17 in /usr/local/lib/python3.6/dist-packages (from requests->torchtext) (2018.11.29)\n",
            "Requirement already satisfied: chardet<3.1.0,>=3.0.2 in /usr/local/lib/python3.6/dist-packages (from requests->torchtext) (3.0.4)\n",
            "Requirement already satisfied: urllib3<1.23,>=1.21.1 in /usr/local/lib/python3.6/dist-packages (from requests->torchtext) (1.22)\n",
            "Requirement already satisfied: spacy in /usr/local/lib/python3.6/dist-packages (2.0.18)\n",
            "Requirement already satisfied: cymem<2.1.0,>=2.0.2 in /usr/local/lib/python3.6/dist-packages (from spacy) (2.0.2)\n",
            "Collecting numpy>=1.15.0 (from spacy)\n",
            "\u001b[?25l  Downloading https://files.pythonhosted.org/packages/f5/bf/4981bcbee43934f0adb8f764a1e70ab0ee5a448f6505bd04a87a2fda2a8b/numpy-1.16.1-cp36-cp36m-manylinux1_x86_64.whl (17.3MB)\n",
            "\u001b[K    100% |████████████████████████████████| 17.3MB 2.4MB/s \n",
            "\u001b[?25hRequirement already satisfied: plac<1.0.0,>=0.9.6 in /usr/local/lib/python3.6/dist-packages (from spacy) (0.9.6)\n",
            "Requirement already satisfied: dill<0.3,>=0.2 in /usr/local/lib/python3.6/dist-packages (from spacy) (0.2.9)\n",
            "Requirement already satisfied: requests<3.0.0,>=2.13.0 in /usr/local/lib/python3.6/dist-packages (from spacy) (2.18.4)\n",
            "Requirement already satisfied: ujson>=1.35 in /usr/local/lib/python3.6/dist-packages (from spacy) (1.35)\n",
            "Requirement already satisfied: murmurhash<1.1.0,>=0.28.0 in /usr/local/lib/python3.6/dist-packages (from spacy) (1.0.1)\n",
            "Requirement already satisfied: regex==2018.01.10 in /usr/local/lib/python3.6/dist-packages (from spacy) (2018.1.10)\n",
            "Requirement already satisfied: preshed<2.1.0,>=2.0.1 in /usr/local/lib/python3.6/dist-packages (from spacy) (2.0.1)\n",
            "Requirement already satisfied: thinc<6.13.0,>=6.12.1 in /usr/local/lib/python3.6/dist-packages (from spacy) (6.12.1)\n",
            "Requirement already satisfied: idna<2.7,>=2.5 in /usr/local/lib/python3.6/dist-packages (from requests<3.0.0,>=2.13.0->spacy) (2.6)\n",
            "Requirement already satisfied: chardet<3.1.0,>=3.0.2 in /usr/local/lib/python3.6/dist-packages (from requests<3.0.0,>=2.13.0->spacy) (3.0.4)\n",
            "Requirement already satisfied: urllib3<1.23,>=1.21.1 in /usr/local/lib/python3.6/dist-packages (from requests<3.0.0,>=2.13.0->spacy) (1.22)\n",
            "Requirement already satisfied: certifi>=2017.4.17 in /usr/local/lib/python3.6/dist-packages (from requests<3.0.0,>=2.13.0->spacy) (2018.11.29)\n",
            "Requirement already satisfied: msgpack<0.6.0,>=0.5.6 in /usr/local/lib/python3.6/dist-packages (from thinc<6.13.0,>=6.12.1->spacy) (0.5.6)\n",
            "Requirement already satisfied: tqdm<5.0.0,>=4.10.0 in /usr/local/lib/python3.6/dist-packages (from thinc<6.13.0,>=6.12.1->spacy) (4.28.1)\n",
            "Requirement already satisfied: six<2.0.0,>=1.10.0 in /usr/local/lib/python3.6/dist-packages (from thinc<6.13.0,>=6.12.1->spacy) (1.11.0)\n",
            "Requirement already satisfied: cytoolz<0.10,>=0.9.0 in /usr/local/lib/python3.6/dist-packages (from thinc<6.13.0,>=6.12.1->spacy) (0.9.0.1)\n",
            "Requirement already satisfied: msgpack-numpy<0.4.4 in /usr/local/lib/python3.6/dist-packages (from thinc<6.13.0,>=6.12.1->spacy) (0.4.3.2)\n",
            "Collecting wrapt<1.11.0,>=1.10.0 (from thinc<6.13.0,>=6.12.1->spacy)\n",
            "  Downloading https://files.pythonhosted.org/packages/a0/47/66897906448185fcb77fc3c2b1bc20ed0ecca81a0f2f88eda3fc5a34fc3d/wrapt-1.10.11.tar.gz\n",
            "Requirement already satisfied: toolz>=0.8.0 in /usr/local/lib/python3.6/dist-packages (from cytoolz<0.10,>=0.9.0->thinc<6.13.0,>=6.12.1->spacy) (0.9.0)\n",
            "Building wheels for collected packages: wrapt\n",
            "  Building wheel for wrapt (setup.py) ... \u001b[?25ldone\n",
            "\u001b[?25h  Stored in directory: /root/.cache/pip/wheels/48/5d/04/22361a593e70d23b1f7746d932802efe1f0e523376a74f321e\n",
            "Successfully built wrapt\n",
            "\u001b[31mtorchvision 0.2.1 has requirement pillow>=4.1.1, but you'll have pillow 4.0.0 which is incompatible.\u001b[0m\n",
            "\u001b[31mpymc3 3.6 has requirement joblib<0.13.0, but you'll have joblib 0.13.2 which is incompatible.\u001b[0m\n",
            "\u001b[31mfeaturetools 0.4.1 has requirement pandas>=0.23.0, but you'll have pandas 0.22.0 which is incompatible.\u001b[0m\n",
            "\u001b[31malbumentations 0.1.12 has requirement imgaug<0.2.7,>=0.2.5, but you'll have imgaug 0.2.8 which is incompatible.\u001b[0m\n",
            "Installing collected packages: numpy, wrapt\n",
            "  Found existing installation: numpy 1.14.6\n",
            "    Uninstalling numpy-1.14.6:\n",
            "      Successfully uninstalled numpy-1.14.6\n",
            "  Found existing installation: wrapt 1.11.1\n",
            "    Uninstalling wrapt-1.11.1:\n",
            "      Successfully uninstalled wrapt-1.11.1\n",
            "Successfully installed numpy-1.16.1 wrapt-1.10.11\n"
          ],
          "name": "stdout"
        },
        {
          "output_type": "display_data",
          "data": {
            "application/vnd.colab-display-data+json": {
              "pip_warning": {
                "packages": [
                  "numpy"
                ]
              }
            }
          },
          "metadata": {
            "tags": []
          }
        },
        {
          "output_type": "stream",
          "text": [
            "Requirement already satisfied: en_core_web_sm==2.0.0 from https://github.com/explosion/spacy-models/releases/download/en_core_web_sm-2.0.0/en_core_web_sm-2.0.0.tar.gz#egg=en_core_web_sm==2.0.0 in /usr/local/lib/python3.6/dist-packages (2.0.0)\n",
            "\n",
            "\u001b[93m    Linking successful\u001b[0m\n",
            "    /usr/local/lib/python3.6/dist-packages/en_core_web_sm -->\n",
            "    /usr/local/lib/python3.6/dist-packages/spacy/data/en\n",
            "\n",
            "    You can now load the model via spacy.load('en')\n",
            "\n"
          ],
          "name": "stdout"
        }
      ]
    },
    {
      "metadata": {
        "id": "y7ddGCjALbiY",
        "colab_type": "code",
        "colab": {}
      },
      "cell_type": "code",
      "source": [
        "import torch\n",
        "import torchtext\n",
        "import spacy\n",
        "spacy_en = spacy.load('en')\n",
        "\n",
        "def tokenizer(text): # create a tokenizer function\n",
        "    return [tok.text for tok in spacy_en.tokenizer(text)]"
      ],
      "execution_count": 0,
      "outputs": []
    },
    {
      "metadata": {
        "id": "7EYKhUMVL_LU",
        "colab_type": "code",
        "outputId": "76b130c3-19c9-41bf-9790-a20c9ec49c2f",
        "colab": {
          "base_uri": "https://localhost:8080/",
          "height": 1184
        }
      },
      "cell_type": "code",
      "source": [
        "def processSummary(tkn):\n",
        "  return tkn\n",
        "\n",
        "def processArticle(tkn):\n",
        "  return tkn\n",
        "\n",
        "SUMMARY = torchtext.data.Field(\n",
        "    tokenize=tokenizer,\n",
        "    preprocessing=processSummary\n",
        ")\n",
        "\n",
        "ARTICLE = torchtext.data.Field(\n",
        "    tokenize=tokenizer,\n",
        "    preprocessing=processArticle\n",
        ")\n",
        "\n",
        "TITLE = torchtext.data.Field()\n",
        "\n",
        "dataset = torchtext.data.TabularDataset(\n",
        "    path='/content/gdrive/My Drive/_UNI/wikihowAll.csv',\n",
        "    format='CSV',\n",
        "    fields=[('summary',SUMMARY),('title',TITLE),('article', ARTICLE)]\n",
        ")"
      ],
      "execution_count": 0,
      "outputs": [
        {
          "output_type": "error",
          "ename": "KeyboardInterrupt",
          "evalue": "ignored",
          "traceback": [
            "\u001b[0;31m---------------------------------------------------------------------------\u001b[0m",
            "\u001b[0;31mKeyboardInterrupt\u001b[0m                         Traceback (most recent call last)",
            "\u001b[0;32m<ipython-input-26-1b7d667bfd68>\u001b[0m in \u001b[0;36m<module>\u001b[0;34m()\u001b[0m\n\u001b[1;32m     20\u001b[0m     \u001b[0mpath\u001b[0m\u001b[0;34m=\u001b[0m\u001b[0;34m'/content/gdrive/My Drive/_UNI/wikihowAll.csv'\u001b[0m\u001b[0;34m,\u001b[0m\u001b[0;34m\u001b[0m\u001b[0;34m\u001b[0m\u001b[0m\n\u001b[1;32m     21\u001b[0m     \u001b[0mformat\u001b[0m\u001b[0;34m=\u001b[0m\u001b[0;34m'CSV'\u001b[0m\u001b[0;34m,\u001b[0m\u001b[0;34m\u001b[0m\u001b[0;34m\u001b[0m\u001b[0m\n\u001b[0;32m---> 22\u001b[0;31m     \u001b[0mfields\u001b[0m\u001b[0;34m=\u001b[0m\u001b[0;34m[\u001b[0m\u001b[0;34m(\u001b[0m\u001b[0;34m'summary'\u001b[0m\u001b[0;34m,\u001b[0m\u001b[0mSUMMARY\u001b[0m\u001b[0;34m)\u001b[0m\u001b[0;34m,\u001b[0m\u001b[0;34m(\u001b[0m\u001b[0;34m'title'\u001b[0m\u001b[0;34m,\u001b[0m\u001b[0mTITLE\u001b[0m\u001b[0;34m)\u001b[0m\u001b[0;34m,\u001b[0m\u001b[0;34m(\u001b[0m\u001b[0;34m'article'\u001b[0m\u001b[0;34m,\u001b[0m \u001b[0mARTICLE\u001b[0m\u001b[0;34m)\u001b[0m\u001b[0;34m]\u001b[0m\u001b[0;34m\u001b[0m\u001b[0;34m\u001b[0m\u001b[0m\n\u001b[0m\u001b[1;32m     23\u001b[0m )\n",
            "\u001b[0;32m/usr/local/lib/python3.6/dist-packages/torchtext/data/dataset.py\u001b[0m in \u001b[0;36m__init__\u001b[0;34m(self, path, format, fields, skip_header, csv_reader_params, **kwargs)\u001b[0m\n\u001b[1;32m    269\u001b[0m                 \u001b[0mnext\u001b[0m\u001b[0;34m(\u001b[0m\u001b[0mreader\u001b[0m\u001b[0;34m)\u001b[0m\u001b[0;34m\u001b[0m\u001b[0;34m\u001b[0m\u001b[0m\n\u001b[1;32m    270\u001b[0m \u001b[0;34m\u001b[0m\u001b[0m\n\u001b[0;32m--> 271\u001b[0;31m             \u001b[0mexamples\u001b[0m \u001b[0;34m=\u001b[0m \u001b[0;34m[\u001b[0m\u001b[0mmake_example\u001b[0m\u001b[0;34m(\u001b[0m\u001b[0mline\u001b[0m\u001b[0;34m,\u001b[0m \u001b[0mfields\u001b[0m\u001b[0;34m)\u001b[0m \u001b[0;32mfor\u001b[0m \u001b[0mline\u001b[0m \u001b[0;32min\u001b[0m \u001b[0mreader\u001b[0m\u001b[0;34m]\u001b[0m\u001b[0;34m\u001b[0m\u001b[0;34m\u001b[0m\u001b[0m\n\u001b[0m\u001b[1;32m    272\u001b[0m \u001b[0;34m\u001b[0m\u001b[0m\n\u001b[1;32m    273\u001b[0m         \u001b[0;32mif\u001b[0m \u001b[0misinstance\u001b[0m\u001b[0;34m(\u001b[0m\u001b[0mfields\u001b[0m\u001b[0;34m,\u001b[0m \u001b[0mdict\u001b[0m\u001b[0;34m)\u001b[0m\u001b[0;34m:\u001b[0m\u001b[0;34m\u001b[0m\u001b[0;34m\u001b[0m\u001b[0m\n",
            "\u001b[0;32m/usr/local/lib/python3.6/dist-packages/torchtext/data/dataset.py\u001b[0m in \u001b[0;36m<listcomp>\u001b[0;34m(.0)\u001b[0m\n\u001b[1;32m    269\u001b[0m                 \u001b[0mnext\u001b[0m\u001b[0;34m(\u001b[0m\u001b[0mreader\u001b[0m\u001b[0;34m)\u001b[0m\u001b[0;34m\u001b[0m\u001b[0;34m\u001b[0m\u001b[0m\n\u001b[1;32m    270\u001b[0m \u001b[0;34m\u001b[0m\u001b[0m\n\u001b[0;32m--> 271\u001b[0;31m             \u001b[0mexamples\u001b[0m \u001b[0;34m=\u001b[0m \u001b[0;34m[\u001b[0m\u001b[0mmake_example\u001b[0m\u001b[0;34m(\u001b[0m\u001b[0mline\u001b[0m\u001b[0;34m,\u001b[0m \u001b[0mfields\u001b[0m\u001b[0;34m)\u001b[0m \u001b[0;32mfor\u001b[0m \u001b[0mline\u001b[0m \u001b[0;32min\u001b[0m \u001b[0mreader\u001b[0m\u001b[0;34m]\u001b[0m\u001b[0;34m\u001b[0m\u001b[0;34m\u001b[0m\u001b[0m\n\u001b[0m\u001b[1;32m    272\u001b[0m \u001b[0;34m\u001b[0m\u001b[0m\n\u001b[1;32m    273\u001b[0m         \u001b[0;32mif\u001b[0m \u001b[0misinstance\u001b[0m\u001b[0;34m(\u001b[0m\u001b[0mfields\u001b[0m\u001b[0;34m,\u001b[0m \u001b[0mdict\u001b[0m\u001b[0;34m)\u001b[0m\u001b[0;34m:\u001b[0m\u001b[0;34m\u001b[0m\u001b[0;34m\u001b[0m\u001b[0m\n",
            "\u001b[0;32m/usr/local/lib/python3.6/dist-packages/torchtext/data/example.py\u001b[0m in \u001b[0;36mfromCSV\u001b[0;34m(cls, data, fields, field_to_index)\u001b[0m\n\u001b[1;32m     32\u001b[0m     \u001b[0;32mdef\u001b[0m \u001b[0mfromCSV\u001b[0m\u001b[0;34m(\u001b[0m\u001b[0mcls\u001b[0m\u001b[0;34m,\u001b[0m \u001b[0mdata\u001b[0m\u001b[0;34m,\u001b[0m \u001b[0mfields\u001b[0m\u001b[0;34m,\u001b[0m \u001b[0mfield_to_index\u001b[0m\u001b[0;34m=\u001b[0m\u001b[0;32mNone\u001b[0m\u001b[0;34m)\u001b[0m\u001b[0;34m:\u001b[0m\u001b[0;34m\u001b[0m\u001b[0;34m\u001b[0m\u001b[0m\n\u001b[1;32m     33\u001b[0m         \u001b[0;32mif\u001b[0m \u001b[0mfield_to_index\u001b[0m \u001b[0;32mis\u001b[0m \u001b[0;32mNone\u001b[0m\u001b[0;34m:\u001b[0m\u001b[0;34m\u001b[0m\u001b[0;34m\u001b[0m\u001b[0m\n\u001b[0;32m---> 34\u001b[0;31m             \u001b[0;32mreturn\u001b[0m \u001b[0mcls\u001b[0m\u001b[0;34m.\u001b[0m\u001b[0mfromlist\u001b[0m\u001b[0;34m(\u001b[0m\u001b[0mdata\u001b[0m\u001b[0;34m,\u001b[0m \u001b[0mfields\u001b[0m\u001b[0;34m)\u001b[0m\u001b[0;34m\u001b[0m\u001b[0;34m\u001b[0m\u001b[0m\n\u001b[0m\u001b[1;32m     35\u001b[0m         \u001b[0;32melse\u001b[0m\u001b[0;34m:\u001b[0m\u001b[0;34m\u001b[0m\u001b[0;34m\u001b[0m\u001b[0m\n\u001b[1;32m     36\u001b[0m             \u001b[0;32massert\u001b[0m\u001b[0;34m(\u001b[0m\u001b[0misinstance\u001b[0m\u001b[0;34m(\u001b[0m\u001b[0mfields\u001b[0m\u001b[0;34m,\u001b[0m \u001b[0mdict\u001b[0m\u001b[0;34m)\u001b[0m\u001b[0;34m)\u001b[0m\u001b[0;34m\u001b[0m\u001b[0;34m\u001b[0m\u001b[0m\n",
            "\u001b[0;32m/usr/local/lib/python3.6/dist-packages/torchtext/data/example.py\u001b[0m in \u001b[0;36mfromlist\u001b[0;34m(cls, data, fields)\u001b[0m\n\u001b[1;32m     50\u001b[0m                         \u001b[0msetattr\u001b[0m\u001b[0;34m(\u001b[0m\u001b[0mex\u001b[0m\u001b[0;34m,\u001b[0m \u001b[0mn\u001b[0m\u001b[0;34m,\u001b[0m \u001b[0mf\u001b[0m\u001b[0;34m.\u001b[0m\u001b[0mpreprocess\u001b[0m\u001b[0;34m(\u001b[0m\u001b[0mval\u001b[0m\u001b[0;34m)\u001b[0m\u001b[0;34m)\u001b[0m\u001b[0;34m\u001b[0m\u001b[0;34m\u001b[0m\u001b[0m\n\u001b[1;32m     51\u001b[0m                 \u001b[0;32melse\u001b[0m\u001b[0;34m:\u001b[0m\u001b[0;34m\u001b[0m\u001b[0;34m\u001b[0m\u001b[0m\n\u001b[0;32m---> 52\u001b[0;31m                     \u001b[0msetattr\u001b[0m\u001b[0;34m(\u001b[0m\u001b[0mex\u001b[0m\u001b[0;34m,\u001b[0m \u001b[0mname\u001b[0m\u001b[0;34m,\u001b[0m \u001b[0mfield\u001b[0m\u001b[0;34m.\u001b[0m\u001b[0mpreprocess\u001b[0m\u001b[0;34m(\u001b[0m\u001b[0mval\u001b[0m\u001b[0;34m)\u001b[0m\u001b[0;34m)\u001b[0m\u001b[0;34m\u001b[0m\u001b[0;34m\u001b[0m\u001b[0m\n\u001b[0m\u001b[1;32m     53\u001b[0m         \u001b[0;32mreturn\u001b[0m \u001b[0mex\u001b[0m\u001b[0;34m\u001b[0m\u001b[0;34m\u001b[0m\u001b[0m\n\u001b[1;32m     54\u001b[0m \u001b[0;34m\u001b[0m\u001b[0m\n",
            "\u001b[0;32m/usr/local/lib/python3.6/dist-packages/torchtext/data/field.py\u001b[0m in \u001b[0;36mpreprocess\u001b[0;34m(self, x)\u001b[0m\n\u001b[1;32m    177\u001b[0m             \u001b[0mx\u001b[0m \u001b[0;34m=\u001b[0m \u001b[0mPipeline\u001b[0m\u001b[0;34m(\u001b[0m\u001b[0;32mlambda\u001b[0m \u001b[0ms\u001b[0m\u001b[0;34m:\u001b[0m \u001b[0msix\u001b[0m\u001b[0;34m.\u001b[0m\u001b[0mtext_type\u001b[0m\u001b[0;34m(\u001b[0m\u001b[0ms\u001b[0m\u001b[0;34m,\u001b[0m \u001b[0mencoding\u001b[0m\u001b[0;34m=\u001b[0m\u001b[0;34m'utf-8'\u001b[0m\u001b[0;34m)\u001b[0m\u001b[0;34m)\u001b[0m\u001b[0;34m(\u001b[0m\u001b[0mx\u001b[0m\u001b[0;34m)\u001b[0m\u001b[0;34m\u001b[0m\u001b[0;34m\u001b[0m\u001b[0m\n\u001b[1;32m    178\u001b[0m         \u001b[0;32mif\u001b[0m \u001b[0mself\u001b[0m\u001b[0;34m.\u001b[0m\u001b[0msequential\u001b[0m \u001b[0;32mand\u001b[0m \u001b[0misinstance\u001b[0m\u001b[0;34m(\u001b[0m\u001b[0mx\u001b[0m\u001b[0;34m,\u001b[0m \u001b[0msix\u001b[0m\u001b[0;34m.\u001b[0m\u001b[0mtext_type\u001b[0m\u001b[0;34m)\u001b[0m\u001b[0;34m:\u001b[0m\u001b[0;34m\u001b[0m\u001b[0;34m\u001b[0m\u001b[0m\n\u001b[0;32m--> 179\u001b[0;31m             \u001b[0mx\u001b[0m \u001b[0;34m=\u001b[0m \u001b[0mself\u001b[0m\u001b[0;34m.\u001b[0m\u001b[0mtokenize\u001b[0m\u001b[0;34m(\u001b[0m\u001b[0mx\u001b[0m\u001b[0;34m.\u001b[0m\u001b[0mrstrip\u001b[0m\u001b[0;34m(\u001b[0m\u001b[0;34m'\\n'\u001b[0m\u001b[0;34m)\u001b[0m\u001b[0;34m)\u001b[0m\u001b[0;34m\u001b[0m\u001b[0;34m\u001b[0m\u001b[0m\n\u001b[0m\u001b[1;32m    180\u001b[0m         \u001b[0;32mif\u001b[0m \u001b[0mself\u001b[0m\u001b[0;34m.\u001b[0m\u001b[0mlower\u001b[0m\u001b[0;34m:\u001b[0m\u001b[0;34m\u001b[0m\u001b[0;34m\u001b[0m\u001b[0m\n\u001b[1;32m    181\u001b[0m             \u001b[0mx\u001b[0m \u001b[0;34m=\u001b[0m \u001b[0mPipeline\u001b[0m\u001b[0;34m(\u001b[0m\u001b[0msix\u001b[0m\u001b[0;34m.\u001b[0m\u001b[0mtext_type\u001b[0m\u001b[0;34m.\u001b[0m\u001b[0mlower\u001b[0m\u001b[0;34m)\u001b[0m\u001b[0;34m(\u001b[0m\u001b[0mx\u001b[0m\u001b[0;34m)\u001b[0m\u001b[0;34m\u001b[0m\u001b[0;34m\u001b[0m\u001b[0m\n",
            "\u001b[0;32m<ipython-input-11-264f3432f296>\u001b[0m in \u001b[0;36mtokenizer\u001b[0;34m(text)\u001b[0m\n\u001b[1;32m      5\u001b[0m \u001b[0;34m\u001b[0m\u001b[0m\n\u001b[1;32m      6\u001b[0m \u001b[0;32mdef\u001b[0m \u001b[0mtokenizer\u001b[0m\u001b[0;34m(\u001b[0m\u001b[0mtext\u001b[0m\u001b[0;34m)\u001b[0m\u001b[0;34m:\u001b[0m \u001b[0;31m# create a tokenizer function\u001b[0m\u001b[0;34m\u001b[0m\u001b[0;34m\u001b[0m\u001b[0m\n\u001b[0;32m----> 7\u001b[0;31m     \u001b[0;32mreturn\u001b[0m \u001b[0;34m[\u001b[0m\u001b[0mtok\u001b[0m\u001b[0;34m.\u001b[0m\u001b[0mtext\u001b[0m \u001b[0;32mfor\u001b[0m \u001b[0mtok\u001b[0m \u001b[0;32min\u001b[0m \u001b[0mspacy_en\u001b[0m\u001b[0;34m.\u001b[0m\u001b[0mtokenizer\u001b[0m\u001b[0;34m(\u001b[0m\u001b[0mtext\u001b[0m\u001b[0;34m)\u001b[0m\u001b[0;34m]\u001b[0m\u001b[0;34m\u001b[0m\u001b[0;34m\u001b[0m\u001b[0m\n\u001b[0m",
            "\u001b[0;32mtokenizer.pyx\u001b[0m in \u001b[0;36mspacy.tokenizer.Tokenizer.__call__\u001b[0;34m()\u001b[0m\n",
            "\u001b[0;32mtokenizer.pyx\u001b[0m in \u001b[0;36mspacy.tokenizer.Tokenizer._tokenize\u001b[0;34m()\u001b[0m\n",
            "\u001b[0;32mtokenizer.pyx\u001b[0m in \u001b[0;36mspacy.tokenizer.Tokenizer._attach_tokens\u001b[0;34m()\u001b[0m\n",
            "\u001b[0;32mvocab.pyx\u001b[0m in \u001b[0;36mspacy.vocab.Vocab.get\u001b[0;34m()\u001b[0m\n",
            "\u001b[0;32mvocab.pyx\u001b[0m in \u001b[0;36mspacy.vocab.Vocab._new_lexeme\u001b[0;34m()\u001b[0m\n",
            "\u001b[0;32m/usr/local/lib/python3.6/dist-packages/spacy/lang/lex_attrs.py\u001b[0m in \u001b[0;36mis_stop\u001b[0;34m(string, stops)\u001b[0m\n\u001b[1;32m    145\u001b[0m \u001b[0;32mdef\u001b[0m \u001b[0mis_title\u001b[0m\u001b[0;34m(\u001b[0m\u001b[0mstring\u001b[0m\u001b[0;34m)\u001b[0m\u001b[0;34m:\u001b[0m \u001b[0;32mreturn\u001b[0m \u001b[0mstring\u001b[0m\u001b[0;34m.\u001b[0m\u001b[0mistitle\u001b[0m\u001b[0;34m(\u001b[0m\u001b[0;34m)\u001b[0m\u001b[0;34m\u001b[0m\u001b[0;34m\u001b[0m\u001b[0m\n\u001b[1;32m    146\u001b[0m \u001b[0;32mdef\u001b[0m \u001b[0mis_upper\u001b[0m\u001b[0;34m(\u001b[0m\u001b[0mstring\u001b[0m\u001b[0;34m)\u001b[0m\u001b[0;34m:\u001b[0m \u001b[0;32mreturn\u001b[0m \u001b[0mstring\u001b[0m\u001b[0;34m.\u001b[0m\u001b[0misupper\u001b[0m\u001b[0;34m(\u001b[0m\u001b[0;34m)\u001b[0m\u001b[0;34m\u001b[0m\u001b[0;34m\u001b[0m\u001b[0m\n\u001b[0;32m--> 147\u001b[0;31m \u001b[0;32mdef\u001b[0m \u001b[0mis_stop\u001b[0m\u001b[0;34m(\u001b[0m\u001b[0mstring\u001b[0m\u001b[0;34m,\u001b[0m \u001b[0mstops\u001b[0m\u001b[0;34m=\u001b[0m\u001b[0mset\u001b[0m\u001b[0;34m(\u001b[0m\u001b[0;34m)\u001b[0m\u001b[0;34m)\u001b[0m\u001b[0;34m:\u001b[0m \u001b[0;32mreturn\u001b[0m \u001b[0mstring\u001b[0m \u001b[0;32min\u001b[0m \u001b[0mstops\u001b[0m\u001b[0;34m\u001b[0m\u001b[0;34m\u001b[0m\u001b[0m\n\u001b[0m\u001b[1;32m    148\u001b[0m \u001b[0;32mdef\u001b[0m \u001b[0mis_oov\u001b[0m\u001b[0;34m(\u001b[0m\u001b[0mstring\u001b[0m\u001b[0;34m)\u001b[0m\u001b[0;34m:\u001b[0m \u001b[0;32mreturn\u001b[0m \u001b[0;32mTrue\u001b[0m\u001b[0;34m\u001b[0m\u001b[0;34m\u001b[0m\u001b[0m\n\u001b[1;32m    149\u001b[0m \u001b[0;32mdef\u001b[0m \u001b[0mget_prob\u001b[0m\u001b[0;34m(\u001b[0m\u001b[0mstring\u001b[0m\u001b[0;34m)\u001b[0m\u001b[0;34m:\u001b[0m \u001b[0;32mreturn\u001b[0m \u001b[0;34m-\u001b[0m\u001b[0;36m20.\u001b[0m\u001b[0;34m\u001b[0m\u001b[0;34m\u001b[0m\u001b[0m\n",
            "\u001b[0;31mKeyboardInterrupt\u001b[0m: "
          ]
        }
      ]
    },
    {
      "metadata": {
        "id": "OgHPR54nN96e",
        "colab_type": "code",
        "colab": {}
      },
      "cell_type": "code",
      "source": [
        "SUMMARY.build_vocab(dataset)"
      ],
      "execution_count": 0,
      "outputs": []
    },
    {
      "metadata": {
        "id": "kq_AcFrMQz_Z",
        "colab_type": "code",
        "outputId": "89ce8660-3ed7-454d-fb4d-01dc0e595eba",
        "colab": {
          "base_uri": "https://localhost:8080/",
          "height": 402
        }
      },
      "cell_type": "code",
      "source": [
        "ARTICLE.build_vocab(dataset)"
      ],
      "execution_count": 0,
      "outputs": [
        {
          "output_type": "error",
          "ename": "AttributeError",
          "evalue": "ignored",
          "traceback": [
            "\u001b[0;31m---------------------------------------------------------------------------\u001b[0m",
            "\u001b[0;31mAttributeError\u001b[0m                            Traceback (most recent call last)",
            "\u001b[0;32m<ipython-input-19-5a6c4ad0851c>\u001b[0m in \u001b[0;36m<module>\u001b[0;34m()\u001b[0m\n\u001b[0;32m----> 1\u001b[0;31m \u001b[0mARTICLE\u001b[0m\u001b[0;34m.\u001b[0m\u001b[0mbuild_vocab\u001b[0m\u001b[0;34m(\u001b[0m\u001b[0mdataset\u001b[0m\u001b[0;34m)\u001b[0m\u001b[0;34m\u001b[0m\u001b[0;34m\u001b[0m\u001b[0m\n\u001b[0m",
            "\u001b[0;32m/usr/local/lib/python3.6/dist-packages/torchtext/data/field.py\u001b[0m in \u001b[0;36mbuild_vocab\u001b[0;34m(self, *args, **kwargs)\u001b[0m\n\u001b[1;32m    260\u001b[0m                 \u001b[0msources\u001b[0m\u001b[0;34m.\u001b[0m\u001b[0mappend\u001b[0m\u001b[0;34m(\u001b[0m\u001b[0marg\u001b[0m\u001b[0;34m)\u001b[0m\u001b[0;34m\u001b[0m\u001b[0;34m\u001b[0m\u001b[0m\n\u001b[1;32m    261\u001b[0m         \u001b[0;32mfor\u001b[0m \u001b[0mdata\u001b[0m \u001b[0;32min\u001b[0m \u001b[0msources\u001b[0m\u001b[0;34m:\u001b[0m\u001b[0;34m\u001b[0m\u001b[0;34m\u001b[0m\u001b[0m\n\u001b[0;32m--> 262\u001b[0;31m             \u001b[0;32mfor\u001b[0m \u001b[0mx\u001b[0m \u001b[0;32min\u001b[0m \u001b[0mdata\u001b[0m\u001b[0;34m:\u001b[0m\u001b[0;34m\u001b[0m\u001b[0;34m\u001b[0m\u001b[0m\n\u001b[0m\u001b[1;32m    263\u001b[0m                 \u001b[0;32mif\u001b[0m \u001b[0;32mnot\u001b[0m \u001b[0mself\u001b[0m\u001b[0;34m.\u001b[0m\u001b[0msequential\u001b[0m\u001b[0;34m:\u001b[0m\u001b[0;34m\u001b[0m\u001b[0;34m\u001b[0m\u001b[0m\n\u001b[1;32m    264\u001b[0m                     \u001b[0mx\u001b[0m \u001b[0;34m=\u001b[0m \u001b[0;34m[\u001b[0m\u001b[0mx\u001b[0m\u001b[0;34m]\u001b[0m\u001b[0;34m\u001b[0m\u001b[0;34m\u001b[0m\u001b[0m\n",
            "\u001b[0;32m/usr/local/lib/python3.6/dist-packages/torchtext/data/dataset.py\u001b[0m in \u001b[0;36m__getattr__\u001b[0;34m(self, attr)\u001b[0m\n\u001b[1;32m    152\u001b[0m         \u001b[0;32mif\u001b[0m \u001b[0mattr\u001b[0m \u001b[0;32min\u001b[0m \u001b[0mself\u001b[0m\u001b[0;34m.\u001b[0m\u001b[0mfields\u001b[0m\u001b[0;34m:\u001b[0m\u001b[0;34m\u001b[0m\u001b[0;34m\u001b[0m\u001b[0m\n\u001b[1;32m    153\u001b[0m             \u001b[0;32mfor\u001b[0m \u001b[0mx\u001b[0m \u001b[0;32min\u001b[0m \u001b[0mself\u001b[0m\u001b[0;34m.\u001b[0m\u001b[0mexamples\u001b[0m\u001b[0;34m:\u001b[0m\u001b[0;34m\u001b[0m\u001b[0;34m\u001b[0m\u001b[0m\n\u001b[0;32m--> 154\u001b[0;31m                 \u001b[0;32myield\u001b[0m \u001b[0mgetattr\u001b[0m\u001b[0;34m(\u001b[0m\u001b[0mx\u001b[0m\u001b[0;34m,\u001b[0m \u001b[0mattr\u001b[0m\u001b[0;34m)\u001b[0m\u001b[0;34m\u001b[0m\u001b[0;34m\u001b[0m\u001b[0m\n\u001b[0m\u001b[1;32m    155\u001b[0m \u001b[0;34m\u001b[0m\u001b[0m\n\u001b[1;32m    156\u001b[0m     \u001b[0;34m@\u001b[0m\u001b[0mclassmethod\u001b[0m\u001b[0;34m\u001b[0m\u001b[0;34m\u001b[0m\u001b[0m\n",
            "\u001b[0;31mAttributeError\u001b[0m: 'Example' object has no attribute 'text'"
          ]
        }
      ]
    },
    {
      "metadata": {
        "id": "hEsdf774Q2m5",
        "colab_type": "code",
        "outputId": "ed32322d-37d7-4c52-a678-25d4cf46b334",
        "colab": {
          "base_uri": "https://localhost:8080/",
          "height": 34
        }
      },
      "cell_type": "code",
      "source": [
        "dataset[34].text"
      ],
      "execution_count": 0,
      "outputs": [
        {
          "output_type": "execute_result",
          "data": {
            "text/plain": [
              "['How', 'to', 'Keep', 'a', 'Pet']"
            ]
          },
          "metadata": {
            "tags": []
          },
          "execution_count": 24
        }
      ]
    },
    {
      "metadata": {
        "id": "_0ghEpEqbKnf",
        "colab_type": "code",
        "outputId": "cd7b51eb-7346-42e2-d4e8-0ba7ff769d2f",
        "colab": {
          "base_uri": "https://localhost:8080/",
          "height": 54
        }
      },
      "cell_type": "code",
      "source": [
        ""
      ],
      "execution_count": 0,
      "outputs": [
        {
          "output_type": "execute_result",
          "data": {
            "text/plain": [
              "'When Sebastian Thrun started working on self-driving cars at Google in 2007, few people outside of the company took him seriously. “I can tell you very senior CEOs of major American car companies would shake my hand and turn away because I wasn’t worth talking to,” said Thrun, now the co-founder and CEO of online higher education startup Udacity, in an interview with Recode earlier this week.'"
            ]
          },
          "metadata": {
            "tags": []
          },
          "execution_count": 27
        }
      ]
    },
    {
      "metadata": {
        "id": "3O6R6ZtElRLd",
        "colab_type": "code",
        "colab": {}
      },
      "cell_type": "code",
      "source": [
        ""
      ],
      "execution_count": 0,
      "outputs": []
    }
  ]
}